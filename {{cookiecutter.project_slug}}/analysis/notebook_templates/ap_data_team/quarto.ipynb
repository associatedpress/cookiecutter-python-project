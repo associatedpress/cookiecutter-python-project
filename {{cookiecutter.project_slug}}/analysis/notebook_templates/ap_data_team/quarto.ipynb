{
 "cells": [
  {
   "cell_type": "raw",
   "id": "c250529d-3381-4cf1-b9e1-da590fa12691",
   "metadata": {},
   "source": [
    "---\n",
    "title: Analysis Notebook\n",
    "author: Author (author@ap.org)\n",
    "date: now\n",
    "execute:\n",
    "  echo: false\n",
    "---"
   ]
  },
  {
   "cell_type": "code",
   "execution_count": 1,
   "id": "5a5a737a-2729-4624-8df3-c3d01c60e0ab",
   "metadata": {
    "vscode": {
     "languageId": "python"
    }
   },
   "outputs": [],
   "source": [
    "import pandas as pd\n",
    "import numpy as np\n",
    "import altair as alt\n",
    "import itables\n",
    "from IPython.display import Markdown\n",
    "def print_markdown(string):\n",
    "    display(Markdown(string))"
   ]
  }
 ],
 "metadata": {
  "jupytext": {
   "formats": "ipynb,Rmd"
  },
  "kernelspec": {
   "display_name": "",
   "name": ""
  },
  "language_info": {
   "name": ""
  }
 },
 "nbformat": 4,
 "nbformat_minor": 5
}

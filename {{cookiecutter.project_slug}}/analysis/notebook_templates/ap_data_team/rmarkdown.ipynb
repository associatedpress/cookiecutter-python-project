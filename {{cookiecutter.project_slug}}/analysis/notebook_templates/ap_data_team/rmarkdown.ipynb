{
 "cells": [
  {
   "cell_type": "raw",
   "metadata": {
    "tags": []
   },
   "source": [
    "---\n",
    "title: \"Rmarkdown Analysis Notebook\"\n",
    "author: \"Author (author@ap.org)\"\n",
    "date: \"`r format(Sys.time(), '%d %B, %Y')`\"\n",
    "output:\n",
    "  html_document:\n",
    "    fig_width: 8\n",
    "    highlight: haddock\n",
    "    keep_md: false\n",
    "    theme: cerulean\n",
    "    toc: yes\n",
    "    toc_float:\n",
    "      collapsed: false\n",
    "---"
   ]
  },
  {
   "cell_type": "markdown",
   "metadata": {
    "jupyter": {
     "source_hidden": true
    },
    "tags": []
   },
   "source": [
    "```{r, setup, echo=F, include=F}\n",
    "knitr::opts_knit$set(root.dir = '../')\n",
    "knitr::opts_chunk$set(echo=FALSE)\n",
    "library(DT)\n",
    "library(reticulate)\n",
    "library(vegawidget)\n",
    "```"
   ]
  },
  {
   "cell_type": "markdown",
   "metadata": {},
   "source": [
    "## Analysis Notebook"
   ]
  },
  {
   "cell_type": "code",
   "execution_count": 1,
   "metadata": {},
   "outputs": [],
   "source": [
    "import pandas as pd\n",
    "import numpy as np\n",
    "import altair as alt"
   ]
  }
 ],
 "metadata": {
  "jupytext": {
   "formats": "ipynb,Rmd"
  },
  "language_info": {
   "codemirror_mode": {
    "name": "ipython",
    "version": 3
   },
   "file_extension": ".py",
   "mimetype": "text/x-python",
   "name": "python",
   "nbconvert_exporter": "python",
   "pygments_lexer": "ipython3",
   "version": "3.7.5"
  }
 },
 "nbformat": 4,
 "nbformat_minor": 4
}
